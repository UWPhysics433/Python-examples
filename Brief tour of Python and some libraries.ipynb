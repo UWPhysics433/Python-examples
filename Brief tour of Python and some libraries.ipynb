{
 "cells": [
  {
   "cell_type": "markdown",
   "metadata": {},
   "source": [
    "# Python: A very brief tour\n",
    "\n",
    "Everything I know about Python I've learned from reading about it and trying stuff out.  You can do this too. I recommend the [Whirlwind Tour of Python](https://jakevdp.github.io/WhirlwindTourOfPython/) and the [Python Data Science Handbook](https://jakevdp.github.io/PythonDataScienceHandbook/) both by Jake VanderPlas.\n",
    "\n",
    "Below, I give some examples of aspects of Python as a language and a look at some basic tasks done with **NumPy**, **Matplotlib** and **Uncertainties** packages.\n"
   ]
  },
  {
   "cell_type": "markdown",
   "metadata": {},
   "source": [
    "### In Python, everything is an \"object\"\n",
    "\n",
    "That means everything has a **type**, has additional data called **attributes** and internal functions called **methods**.  You can see what these are with the `type()`, `help()` and `dir()` functions."
   ]
  },
  {
   "cell_type": "code",
   "execution_count": 39,
   "metadata": {},
   "outputs": [],
   "source": [
    "a = -35.9"
   ]
  },
  {
   "cell_type": "code",
   "execution_count": null,
   "metadata": {},
   "outputs": [],
   "source": [
    "dir(a)"
   ]
  },
  {
   "cell_type": "code",
   "execution_count": 40,
   "metadata": {},
   "outputs": [
    {
     "data": {
      "text/plain": [
       "False"
      ]
     },
     "execution_count": 40,
     "metadata": {},
     "output_type": "execute_result"
    }
   ],
   "source": [
    "# is_integer() is a Boolean method that retirns true if the floating point number \n",
    "# could be replaced with an integer without loss of precision.\n",
    "#\n",
    "a.is_integer()"
   ]
  },
  {
   "cell_type": "code",
   "execution_count": null,
   "metadata": {},
   "outputs": [],
   "source": [
    "help(a)"
   ]
  },
  {
   "cell_type": "markdown",
   "metadata": {},
   "source": [
    "### Variables are pointers\n",
    "\n",
    "But, most basic types are \"immutable\" so you can't tell.  Immutable means it cannot be changed, so if you try to change it, what you really do is reassign the variable to point to a new object.  "
   ]
  },
  {
   "cell_type": "code",
   "execution_count": 41,
   "metadata": {},
   "outputs": [
    {
     "name": "stdout",
     "output_type": "stream",
     "text": [
      "-35.9\n"
     ]
    }
   ],
   "source": [
    "b = a\n",
    "print(b)"
   ]
  },
  {
   "cell_type": "code",
   "execution_count": 42,
   "metadata": {},
   "outputs": [
    {
     "name": "stdout",
     "output_type": "stream",
     "text": [
      "5\n",
      "-35.9\n"
     ]
    }
   ],
   "source": [
    "a = 5\n",
    "print(a)\n",
    "print(b)"
   ]
  },
  {
   "cell_type": "markdown",
   "metadata": {},
   "source": [
    "### But...\n",
    "\n",
    "\"Mutable\" types can change their contents.  The variable \"pointer\" points to the structure, not the contents of the mutable structure.  This is most relevant with lists. "
   ]
  },
  {
   "cell_type": "code",
   "execution_count": 43,
   "metadata": {
    "scrolled": true
   },
   "outputs": [
    {
     "data": {
      "text/plain": [
       "[1, 2, 3, 4, 5, 6, 7, 8, 9.5]"
      ]
     },
     "execution_count": 43,
     "metadata": {},
     "output_type": "execute_result"
    }
   ],
   "source": [
    "numbers = [1,2,3,4,5,6,7,8, 9.5]\n",
    "numbers"
   ]
  },
  {
   "cell_type": "code",
   "execution_count": 44,
   "metadata": {},
   "outputs": [
    {
     "name": "stdout",
     "output_type": "stream",
     "text": [
      "a = [1, 2, 3, 4, 5, 6, 7, 8, 9.5]\n",
      "b = [1, 2, 3, 4, 5, 6, 7, 8, 9.5]\n"
     ]
    }
   ],
   "source": [
    "a = numbers\n",
    "b = a\n",
    "print(\"a =\", a)\n",
    "print(\"b =\", b)"
   ]
  },
  {
   "cell_type": "code",
   "execution_count": 45,
   "metadata": {},
   "outputs": [
    {
     "name": "stdout",
     "output_type": "stream",
     "text": [
      "a = [10, 2, 3, 4, 5, 6, 7, 8, 9.5]\n",
      "b = [10, 2, 3, 4, 5, 6, 7, 8, 9.5]\n",
      "numbers = [10, 2, 3, 4, 5, 6, 7, 8, 9.5]\n"
     ]
    }
   ],
   "source": [
    "b[0] = 10\n",
    "print(\"a =\", a)\n",
    "print(\"b =\", b)\n",
    "print(\"numbers =\", numbers)"
   ]
  },
  {
   "cell_type": "markdown",
   "metadata": {},
   "source": [
    "To save the list no a new variable that will not affect the old list, use the copy() method"
   ]
  },
  {
   "cell_type": "code",
   "execution_count": 46,
   "metadata": {},
   "outputs": [
    {
     "name": "stdout",
     "output_type": "stream",
     "text": [
      "a = [56.2, 2, 3, 4, 5, 6, 7, 8, 9.5]\n",
      "b = [56.2, 2, 3, 4, 5, 6, 7, 8, 9.5]\n",
      "numbers = [1, 2, 3, 4, 5, 6, 7, 8, 9.5]\n"
     ]
    }
   ],
   "source": [
    "numbers = [1,2,3,4,5,6,7,8, 9.5]\n",
    "a = numbers.copy()\n",
    "b = a\n",
    "b[0] = 56.2\n",
    "print(\"a =\", a)\n",
    "print(\"b =\", b)\n",
    "print(\"numbers =\", numbers)"
   ]
  },
  {
   "cell_type": "markdown",
   "metadata": {},
   "source": [
    "### The real action is in Python packages\n",
    "\n",
    "Every notebook will include **NumPy** and **Matplotlib**"
   ]
  },
  {
   "cell_type": "code",
   "execution_count": 47,
   "metadata": {},
   "outputs": [],
   "source": [
    "# Usually import packages via a handle to the functions in them using import ... as ...\n",
    "#\n",
    "import numpy as np\n",
    "import matplotlib.pyplot as plt\n",
    "import uncertainties as unc\n",
    "%matplotlib inline"
   ]
  },
  {
   "cell_type": "markdown",
   "metadata": {},
   "source": [
    "A NumPy array is really useful. Compare similar operations with the original list.  Numpy arrays allow you to change every element of an array as easily as changing a single vaule."
   ]
  },
  {
   "cell_type": "code",
   "execution_count": 48,
   "metadata": {},
   "outputs": [],
   "source": [
    "c = np.array(numbers)\n"
   ]
  },
  {
   "cell_type": "code",
   "execution_count": 50,
   "metadata": {},
   "outputs": [
    {
     "name": "stdout",
     "output_type": "stream",
     "text": [
      "numbers * 2 =  [1, 2, 3, 4, 5, 6, 7, 8, 9.5, 1, 2, 3, 4, 5, 6, 7, 8, 9.5]\n",
      "c * 2 = [ 2.  4.  6.  8. 10. 12. 14. 16. 19.]\n"
     ]
    }
   ],
   "source": [
    "print(\"numbers * 2 = \", numbers * 2)\n",
    "print(\"c * 2 =\", c * 2)"
   ]
  },
  {
   "cell_type": "markdown",
   "metadata": {},
   "source": [
    "Mathematical operations on lists concern concatinations, and in order to work, the operands must be lists."
   ]
  },
  {
   "cell_type": "code",
   "execution_count": 51,
   "metadata": {},
   "outputs": [
    {
     "name": "stdout",
     "output_type": "stream",
     "text": [
      "c + 2 = [ 3.   4.   5.   6.   7.   8.   9.  10.  11.5]\n"
     ]
    },
    {
     "ename": "TypeError",
     "evalue": "can only concatenate list (not \"int\") to list",
     "output_type": "error",
     "traceback": [
      "\u001b[1;31m---------------------------------------------------------------------------\u001b[0m",
      "\u001b[1;31mTypeError\u001b[0m                                 Traceback (most recent call last)",
      "\u001b[1;32m<ipython-input-51-62117ab5fdb9>\u001b[0m in \u001b[0;36m<module>\u001b[1;34m\u001b[0m\n\u001b[0;32m      1\u001b[0m \u001b[0mprint\u001b[0m\u001b[1;33m(\u001b[0m\u001b[1;34m\"c + 2 =\"\u001b[0m\u001b[1;33m,\u001b[0m \u001b[0mc\u001b[0m \u001b[1;33m+\u001b[0m \u001b[1;36m2\u001b[0m\u001b[1;33m)\u001b[0m\u001b[1;33m\u001b[0m\u001b[1;33m\u001b[0m\u001b[0m\n\u001b[1;32m----> 2\u001b[1;33m \u001b[0mprint\u001b[0m\u001b[1;33m(\u001b[0m\u001b[1;34m\"numbers + 2 = \"\u001b[0m\u001b[1;33m,\u001b[0m \u001b[0mnumbers\u001b[0m \u001b[1;33m+\u001b[0m \u001b[1;36m2\u001b[0m\u001b[1;33m)\u001b[0m\u001b[1;33m\u001b[0m\u001b[1;33m\u001b[0m\u001b[0m\n\u001b[0m",
      "\u001b[1;31mTypeError\u001b[0m: can only concatenate list (not \"int\") to list"
     ]
    }
   ],
   "source": [
    "print(\"c + 2 =\", c + 2)\n",
    "print(\"numbers + 2 = \", numbers + 2)"
   ]
  },
  {
   "cell_type": "markdown",
   "metadata": {},
   "source": [
    "NumPy functions will often convert numerical lists into NumPy arrays automatically."
   ]
  },
  {
   "cell_type": "code",
   "execution_count": 52,
   "metadata": {},
   "outputs": [
    {
     "name": "stdout",
     "output_type": "stream",
     "text": [
      "sin(c) = [ 0.84147098  0.90929743  0.14112001 -0.7568025  -0.95892427 -0.2794155\n",
      "  0.6569866   0.98935825 -0.07515112]\n",
      "sin(numbers) = [ 0.84147098  0.90929743  0.14112001 -0.7568025  -0.95892427 -0.2794155\n",
      "  0.6569866   0.98935825 -0.07515112]\n"
     ]
    }
   ],
   "source": [
    "print(\"sin(c) =\", np.sin(c))\n",
    "print(\"sin(numbers) =\", np.sin(numbers))"
   ]
  },
  {
   "cell_type": "markdown",
   "metadata": {},
   "source": [
    "Look at all of the methods inside a NumPy array!"
   ]
  },
  {
   "cell_type": "code",
   "execution_count": null,
   "metadata": {},
   "outputs": [],
   "source": [
    "help(c)"
   ]
  },
  {
   "cell_type": "markdown",
   "metadata": {},
   "source": [
    "## A simple plot with a simple fit\n",
    "\n",
    "Very basic - like Excel ***trendline***"
   ]
  },
  {
   "cell_type": "markdown",
   "metadata": {},
   "source": [
    "### Example from physics 331 - Michelson Na fringe-contrast nodes\n",
    "\n",
    "Readings are from a micrometer position of points that should be linearly spaced."
   ]
  },
  {
   "cell_type": "code",
   "execution_count": 53,
   "metadata": {},
   "outputs": [],
   "source": [
    "# Node locations, using extreme limits of where nodes might be, i.e., as far as I can tell\n",
    "# the first node lies between 15.354 and 15.243 mm.\n",
    "#\n",
    "Na_nodes_data = np.array([\n",
    "    [15.354,15.243],\n",
    "    [15.611,15.563],\n",
    "    [15.925,15.856],\n",
    "    [16.214,16.148],\n",
    "    [16.485,16.452],\n",
    "    [16.764,16.748],\n",
    "    [17.042,17.049],\n",
    "    [17.335,17.343],\n",
    "    [17.617,17.643],\n",
    "    [17.903,17.939],\n",
    "    [18.178,18.233],\n",
    "    [18.481,18.534],\n",
    "    [18.778,18.824]])"
   ]
  },
  {
   "cell_type": "markdown",
   "metadata": {},
   "source": [
    "To understant the statement below, you need to learn how indexing works in Python.  See **The Whirlwind Tour** (link at top) for more information."
   ]
  },
  {
   "cell_type": "code",
   "execution_count": 54,
   "metadata": {},
   "outputs": [
    {
     "name": "stdout",
     "output_type": "stream",
     "text": [
      "[15.2985 15.587  15.8905 16.181  16.4685 16.756  17.0455 17.339  17.63\n",
      " 17.921  18.2055 18.5075 18.801 ]\n"
     ]
    }
   ],
   "source": [
    "# Find the midpoints\n",
    "#\n",
    "Na_nodes = (Na_nodes_data[:,0]+Na_nodes_data[:,1])/2.0\n",
    "print(Na_nodes)"
   ]
  },
  {
   "cell_type": "code",
   "execution_count": 55,
   "metadata": {},
   "outputs": [
    {
     "data": {
      "text/plain": [
       "array([-6, -5, -4, -3, -2, -1,  0,  1,  2,  3,  4,  5,  6])"
      ]
     },
     "execution_count": 55,
     "metadata": {},
     "output_type": "execute_result"
    }
   ],
   "source": [
    "# Assign a number to each node.  But want the center node to be 0\n",
    "# The size attribute gives the number of elements in the array.\n",
    "\n",
    "node_num = np.arange(Na_nodes.size)-Na_nodes.size//2\n",
    "node_num"
   ]
  },
  {
   "cell_type": "markdown",
   "metadata": {},
   "source": [
    "### Make a plot\n",
    "\n",
    "With axes labels **(Required!)**"
   ]
  },
  {
   "cell_type": "code",
   "execution_count": 56,
   "metadata": {},
   "outputs": [
    {
     "data": {
      "image/png": "[encoded data removed]",
      "text/plain": [
       "<Figure size 720x576 with 1 Axes>"
      ]
     },
     "metadata": {
      "needs_background": "light"
     },
     "output_type": "display_data"
    }
   ],
   "source": [
    "plt.figure(figsize=(10,8))\n",
    "plt.plot(node_num,Na_nodes,'ro',label=\"Data\")\n",
    "plt.grid(True)\n",
    "plt.xlabel('Node number')\n",
    "plt.ylabel('Mirror position (mm)')\n",
    "plt.title('Na node positions')\n",
    "plt.legend();"
   ]
  },
  {
   "cell_type": "markdown",
   "metadata": {},
   "source": [
    "### Fit a line\n",
    "\n",
    "Very basic.  Later we'll use something much more powerful."
   ]
  },
  {
   "cell_type": "code",
   "execution_count": 57,
   "metadata": {},
   "outputs": [
    {
     "name": "stdout",
     "output_type": "stream",
     "text": [
      "[ 0.29122802 17.04853846]\n",
      "Intercept = 17.0485 mm\n",
      "Slope = 0.2912 mm/node\n"
     ]
    }
   ],
   "source": [
    "# The first line does a fit, and returns the fitting coefficients\n",
    "#\n",
    "my_coeff = np.polyfit(node_num,Na_nodes,1) # This fits a line (degree-1 polynomial)\n",
    "#\n",
    "print(my_coeff)\n",
    "print('Intercept = {:.4f} mm'.format(my_coeff[1]))\n",
    "print('Slope = {:.4f} mm/node'.format(my_coeff[0]))\n"
   ]
  },
  {
   "cell_type": "code",
   "execution_count": 58,
   "metadata": {},
   "outputs": [
    {
     "name": "stdout",
     "output_type": "stream",
     "text": [
      " \n",
      "0.2912 x + 17.05\n"
     ]
    },
    {
     "data": {
      "text/plain": [
       "17.6309945054945"
      ]
     },
     "execution_count": 58,
     "metadata": {},
     "output_type": "execute_result"
    }
   ],
   "source": [
    "# The poly1d function uses the coefficients and creates a function of them\n",
    "#\n",
    "cal = np.poly1d(my_coeff)  # This makes a polynomial function from the coefficients\n",
    "print(np.poly1d(cal))\n",
    "cal(2.0)"
   ]
  },
  {
   "cell_type": "code",
   "execution_count": 59,
   "metadata": {},
   "outputs": [
    {
     "data": {
      "image/png": "[encoded data removed]",
      "text/plain": [
       "<Figure size 720x576 with 1 Axes>"
      ]
     },
     "metadata": {
      "needs_background": "light"
     },
     "output_type": "display_data"
    }
   ],
   "source": [
    "# Now we can add a fitline\n",
    "#\n",
    "plt.figure(figsize=(10,8))\n",
    "plt.plot(node_num,Na_nodes,'ro',label=\"Data\")\n",
    "plt.plot(node_num,cal(node_num),'-',label=\"Linear trendline\")\n",
    "plt.grid(True)\n",
    "plt.xlabel('Node number')\n",
    "plt.ylabel('Mirror position (mm)')\n",
    "plt.title('Na node positions')\n",
    "plt.legend();"
   ]
  },
  {
   "cell_type": "markdown",
   "metadata": {},
   "source": [
    "## Manipulating distributions\n",
    "\n",
    "A brief introduction and example concerning uncertainty propagation"
   ]
  },
  {
   "cell_type": "code",
   "execution_count": 60,
   "metadata": {
    "scrolled": true
   },
   "outputs": [
    {
     "data": {
      "image/png": "[encoded data removed]",
      "text/plain": [
       "<Figure size 432x288 with 1 Axes>"
      ]
     },
     "metadata": {
      "needs_background": "light"
     },
     "output_type": "display_data"
    }
   ],
   "source": [
    "# Generate a random distribution: Gaussian with mean = 0 and Std Dev = 1\n",
    "\n",
    "data = np.random.randn(5000)\n",
    "\n",
    "# Plot a histogram\n",
    "plt.hist(data,bins=20);"
   ]
  },
  {
   "cell_type": "code",
   "execution_count": 61,
   "metadata": {},
   "outputs": [
    {
     "name": "stdout",
     "output_type": "stream",
     "text": [
      "Mean = -0.0171\n",
      "Standard deviation = 0.9879\n"
     ]
    }
   ],
   "source": [
    "# what's the mean & std dev?\n",
    "print('Mean = {:.4f}'.format(data.mean()))\n",
    "print('Standard deviation = {:.4f}'.format(np.std(data)))"
   ]
  },
  {
   "cell_type": "markdown",
   "metadata": {},
   "source": [
    "Make new distributions.  Add them.  Plot all."
   ]
  },
  {
   "cell_type": "code",
   "execution_count": 62,
   "metadata": {
    "scrolled": false
   },
   "outputs": [
    {
     "data": {
      "image/png": "[encoded data removed]",
      "text/plain": [
       "<Figure size 720x504 with 1 Axes>"
      ]
     },
     "metadata": {
      "needs_background": "light"
     },
     "output_type": "display_data"
    }
   ],
   "source": [
    "a = 3.0 + 0.3*np.random.randn(5000)\n",
    "b = 4.0 + 0.4*np.random.randn(5000)\n",
    "\n",
    "c = a+b\n",
    "\n",
    "kwargs = dict(density=True, bins=60, alpha=.5, range=(0,10))\n",
    "\n",
    "plt.figure(figsize=(10,7))\n",
    "plt.hist(a,**kwargs, label='a')\n",
    "plt.hist(b,**kwargs, label='b')\n",
    "plt.hist(c,**kwargs, label='c = a+b')\n",
    "plt.legend();\n"
   ]
  },
  {
   "cell_type": "markdown",
   "metadata": {},
   "source": [
    "### Calculate the expected standard deviation using the sum of squares rule\n",
    "\n",
    "Then compare it to what you get from the sum of the two distributions"
   ]
  },
  {
   "cell_type": "code",
   "execution_count": 63,
   "metadata": {},
   "outputs": [
    {
     "name": "stdout",
     "output_type": "stream",
     "text": [
      "Expected std. dev. = 0.4971\n"
     ]
    }
   ],
   "source": [
    "sigma_c = np.sqrt(a.std()**2 + b.std()**2)\n",
    "print('Expected std. dev. = {:.4f}'.format(sigma_c))"
   ]
  },
  {
   "cell_type": "code",
   "execution_count": 64,
   "metadata": {},
   "outputs": [
    {
     "name": "stdout",
     "output_type": "stream",
     "text": [
      "Actual std. dev. = 0.4960\n"
     ]
    }
   ],
   "source": [
    "print('Actual std. dev. = {:.4f}'.format(c.std()))"
   ]
  },
  {
   "cell_type": "markdown",
   "metadata": {},
   "source": [
    "### Now invoke Uncertainties\n",
    "\n"
   ]
  },
  {
   "cell_type": "code",
   "execution_count": 65,
   "metadata": {},
   "outputs": [
    {
     "name": "stdout",
     "output_type": "stream",
     "text": [
      "ua = 2.99+/-0.29 , ub = 4.0+/-0.4 , uc = 7.0+/-0.5\n",
      "ua + ub = 7.0+/-0.5\n"
     ]
    }
   ],
   "source": [
    "# Create uncertainty objects\n",
    "# a \"ufloat\" has a value and an uncertainty\n",
    "\n",
    "ua = unc.ufloat(a.mean(),a.std())\n",
    "ub = unc.ufloat(b.mean(),b.std())\n",
    "uc = unc.ufloat(c.mean(),c.std())\n",
    "\n",
    "print(\"ua =\",ua,\", ub =\",ub,\", uc =\", uc)\n",
    "print(\"ua + ub =\", ua + ub)"
   ]
  },
  {
   "cell_type": "markdown",
   "metadata": {},
   "source": [
    "Notice how the uncertainty was propagated to the sum of `a` and `b` automatically.\n",
    "\n",
    "The package also has useful formatting code.  It prints the value and uncertainty to the same precision (same number of digits past the decimal point). "
   ]
  },
  {
   "cell_type": "code",
   "execution_count": 66,
   "metadata": {},
   "outputs": [
    {
     "name": "stdout",
     "output_type": "stream",
     "text": [
      "C = 6.99+/-0.50\n",
      "C = 6.99±0.50\n"
     ]
    }
   ],
   "source": [
    "print('C = {:.2u}'.format(uc))\n",
    "\n",
    "# The \"P\" tag looks prettier\n",
    "\n",
    "print('C = {:.2uP}'.format(uc))"
   ]
  },
  {
   "cell_type": "markdown",
   "metadata": {},
   "source": [
    "### Compare a few more propagation calculations to those found from combining whole distributions"
   ]
  },
  {
   "cell_type": "code",
   "execution_count": 67,
   "metadata": {},
   "outputs": [
    {
     "data": {
      "image/png": "[encoded data removed]",
      "text/plain": [
       "<Figure size 720x504 with 1 Axes>"
      ]
     },
     "metadata": {
      "needs_background": "light"
     },
     "output_type": "display_data"
    }
   ],
   "source": [
    "d = a*b\n",
    "e = a/b\n",
    "\n",
    "kwargs = dict(density=True, bins=60, alpha=.5, range=(0,20))\n",
    "\n",
    "plt.figure(figsize=(10,7))\n",
    "plt.hist(a,**kwargs, label='a')\n",
    "plt.hist(b,**kwargs, label='b')\n",
    "plt.hist(d,**kwargs, label='d = a*b')\n",
    "plt.hist(e,**kwargs, label='e = a/b')\n",
    "plt.legend();\n"
   ]
  },
  {
   "cell_type": "code",
   "execution_count": 68,
   "metadata": {},
   "outputs": [
    {
     "name": "stdout",
     "output_type": "stream",
     "text": [
      "d = 12.0±1.7\n",
      "e = 0.76±0.11\n"
     ]
    }
   ],
   "source": [
    "ud = unc.ufloat(d.mean(),d.std())\n",
    "ue = unc.ufloat(e.mean(),e.std())\n",
    "\n",
    "print('d = {:.2uP}'.format(ud))\n",
    "print('e = {:.2uP}'.format(ue))"
   ]
  },
  {
   "cell_type": "code",
   "execution_count": 69,
   "metadata": {},
   "outputs": [
    {
     "name": "stdout",
     "output_type": "stream",
     "text": [
      "ud, calc = 12.0±1.7\n",
      "ue, calc = 0.75±0.11\n"
     ]
    }
   ],
   "source": [
    "print('ud, calc = {:.2uP}'.format(ua*ub))\n",
    "print('ue, calc = {:.2uP}'.format(ua/ub))\n"
   ]
  },
  {
   "cell_type": "markdown",
   "metadata": {},
   "source": [
    "## Slices, manipulating arrays, and the meaning of \"Standard Error\""
   ]
  },
  {
   "cell_type": "code",
   "execution_count": 70,
   "metadata": {},
   "outputs": [
    {
     "name": "stdout",
     "output_type": "stream",
     "text": [
      "[ 1.69748477  0.16786082 -0.63570388 -0.38896564 -0.87667586]\n",
      "-0.03599978415415839\n"
     ]
    }
   ],
   "source": [
    "# Select a range with a \"slice\"\n",
    "\n",
    "N = 5\n",
    "print(data[0:N])\n",
    "print(np.sum(data[0:N]))"
   ]
  },
  {
   "cell_type": "code",
   "execution_count": 71,
   "metadata": {},
   "outputs": [
    {
     "name": "stdout",
     "output_type": "stream",
     "text": [
      "0 : 5   -0.03599978415415839\n",
      "5 : 10   -0.4584101587883093\n",
      "10 : 15   -2.251351336723514\n",
      "15 : 20   -2.672726347389065\n",
      "20 : 25   -0.23271294776852214\n",
      "25 : 30   1.0343755975810713\n",
      "30 : 35   -5.332250976398686\n",
      "35 : 40   -0.12165001088122551\n",
      "40 : 45   -2.757877927012533\n",
      "45 : 50   1.8017343999369078\n"
     ]
    }
   ],
   "source": [
    "# Allow the beginning and end to change with a variable\n",
    "N = 5\n",
    "i = 1\n",
    "for i in range(10):\n",
    "    print(i*N,':',(i+1)*N,' ',np.sum(data[i*N:i*N+N]))"
   ]
  },
  {
   "cell_type": "code",
   "execution_count": 72,
   "metadata": {},
   "outputs": [
    {
     "name": "stdout",
     "output_type": "stream",
     "text": [
      "[-0.03599978415415839, -0.4584101587883093, -2.251351336723514, -2.672726347389065, -0.23271294776852214, 1.0343755975810713, -5.332250976398686, -0.12165001088122551, -2.757877927012533, 1.8017343999369078]\n"
     ]
    }
   ],
   "source": [
    "# Use the append() command to add a mean to an array (i.e., list).\n",
    "\n",
    "N = 5\n",
    "i = 1\n",
    "list_of_means = [] #initializes list\n",
    "for i in range(10):\n",
    "    # print(i*N,':',(i+1)*N)\n",
    "    # print(data[i*N:i*N+N])\n",
    "    list_of_means.append(np.sum(data[i*N:(i+1)*N]))\n",
    "    \n",
    "print(list_of_means)"
   ]
  },
  {
   "cell_type": "code",
   "execution_count": 73,
   "metadata": {},
   "outputs": [],
   "source": [
    "# create means of random numbers over fixed N with a function\n",
    "\n",
    "def find_means(data,N=10):\n",
    "    k = len(data)//N\n",
    "    list_of_means = []\n",
    "    for i in range(k-1):\n",
    "        list_of_means.append(np.mean(data[i*N:i*N+N]))\n",
    "    return list_of_means\n",
    "\n",
    "# Same thing with a Python \"list comprehension\"\n",
    "def find_means_ver2(data,N=10):\n",
    "    return [np.mean(data[i*N:i*N+N]) for i in range((len(data)//N) - 1)]\n"
   ]
  },
  {
   "cell_type": "code",
   "execution_count": 74,
   "metadata": {},
   "outputs": [
    {
     "name": "stdout",
     "output_type": "stream",
     "text": [
      "Population std dev = 0.9879\n",
      "Mean of 100 std dev = 0.1052\n",
      "\"Standard deviation of the mean\" = 0.098794\n"
     ]
    }
   ],
   "source": [
    "print('Population std dev = {:.4g}'.format(np.std(data)))\n",
    "n=100\n",
    "print('Mean of {:d} std dev = {:.4g}'.format(n,np.std(find_means(data,N=n))))\n",
    "print('\"Standard deviation of the mean\" = {:.5g}'.format(np.std(data)/np.sqrt(n)))      "
   ]
  },
  {
   "cell_type": "markdown",
   "metadata": {},
   "source": [
    "Notice how taking means of larger subsets makes the width of the distribution of the means smaller.  The mean value of a data set always has less uncertainty than the standard deviation of that data set."
   ]
  },
  {
   "cell_type": "code",
   "execution_count": 75,
   "metadata": {},
   "outputs": [
    {
     "data": {
      "image/png": "[encoded data removed]",
      "text/plain": [
       "<Figure size 720x504 with 1 Axes>"
      ]
     },
     "metadata": {
      "needs_background": "light"
     },
     "output_type": "display_data"
    }
   ],
   "source": [
    "kwargs = dict(density=True, bins=60, alpha=.5, range=(-3,+3))\n",
    "\n",
    "# See the docs on matplotlib.pyplot.hist()\n",
    "#    density=True normalizes the distribution\n",
    "#    range sets the x-axis range\n",
    "#    alpha=0.5 makes the histogram bins partially transparent.\n",
    "\n",
    "plt.figure(figsize=(10,7))\n",
    "plt.hist(data, **kwargs)\n",
    "plt.hist(find_means(data,N=10), **kwargs)\n",
    "plt.hist(find_means(data,N=100), **kwargs);\n"
   ]
  },
  {
   "cell_type": "code",
   "execution_count": null,
   "metadata": {},
   "outputs": [],
   "source": []
  }
 ],
 "metadata": {
  "kernelspec": {
   "display_name": "Python 3",
   "language": "python",
   "name": "python3"
  },
  "language_info": {
   "codemirror_mode": {
    "name": "ipython",
    "version": 3
   },
   "file_extension": ".py",
   "mimetype": "text/x-python",
   "name": "python",
   "nbconvert_exporter": "python",
   "pygments_lexer": "ipython3",
   "version": "3.7.3"
  }
 },
 "nbformat": 4,
 "nbformat_minor": 4
}
